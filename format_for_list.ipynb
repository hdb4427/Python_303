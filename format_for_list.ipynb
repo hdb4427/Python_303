{
 "cells": [
  {
   "cell_type": "markdown",
   "metadata": {},
   "source": [
    "### format_for_list "
   ]
  },
  {
   "cell_type": "code",
   "execution_count": 1,
   "metadata": {},
   "outputs": [
    {
     "name": "stdout",
     "output_type": "stream",
     "text": [
      "대건 윤기 찬빈\n"
     ]
    }
   ],
   "source": [
    "s='{} {} {}'\n",
    "f=s.format('대건','윤기','찬빈')\n",
    "print(f)"
   ]
  },
  {
   "cell_type": "code",
   "execution_count": 3,
   "metadata": {},
   "outputs": [
    {
     "name": "stdout",
     "output_type": "stream",
     "text": [
      "대건이는 윤기와 찬빈이를 좋아한다\n"
     ]
    }
   ],
   "source": [
    "s='{}이는 {}와 {}이를 좋아한다'\n",
    "f=s.format('대건','윤기','찬빈')\n",
    "print(f)"
   ]
  },
  {
   "cell_type": "code",
   "execution_count": 4,
   "metadata": {},
   "outputs": [
    {
     "name": "stdout",
     "output_type": "stream",
     "text": [
      "대건이는 30312이고 인천대학교에 진학했다\n"
     ]
    }
   ],
   "source": [
    "s='{}이는 {}이고 {}에 진학했다'\n",
    "f=s.format('대건','30312','인천대학교')\n",
    "print(f)"
   ]
  },
  {
   "cell_type": "code",
   "execution_count": 7,
   "metadata": {},
   "outputs": [
    {
     "name": "stdout",
     "output_type": "stream",
     "text": [
      "석찬이는 30103번이고 인천시 연수구에 살고 있다\n"
     ]
    }
   ],
   "source": [
    "name='석찬'\n",
    "num=30103\n",
    "add='인천시 연수구'\n",
    "s='{}이는 {}번이고 {}에 살고 있다'\n",
    "f=s.format(name,num,add)\n",
    "print(f)"
   ]
  },
  {
   "cell_type": "code",
   "execution_count": 9,
   "metadata": {},
   "outputs": [
    {
     "name": "stdout",
     "output_type": "stream",
     "text": [
      "이름입력: wlsdns\n",
      "학번입력: 1313\n",
      "주소입력: dfsfd\n",
      "wlsdns이는 1313번이고 dfsfd에 살고 있다\n"
     ]
    }
   ],
   "source": [
    "name=input('이름입력: ')\n",
    "num=input('학번입력: ')\n",
    "add=input('주소입력: ')\n",
    "s='{}이는 {}번이고 {}에 살고 있다'\n",
    "f=s.format(name,num,add)\n",
    "print(f)"
   ]
  },
  {
   "cell_type": "code",
   "execution_count": 18,
   "metadata": {},
   "outputs": [
    {
     "name": "stdout",
     "output_type": "stream",
     "text": [
      "이름 학번 주소입력: 치킨 001 닭장\n"
     ]
    }
   ],
   "source": [
    "stu=input('이름 학번 주소입력: ').split()"
   ]
  },
  {
   "cell_type": "code",
   "execution_count": 16,
   "metadata": {},
   "outputs": [
    {
     "data": {
      "text/plain": [
       "'1'"
      ]
     },
     "execution_count": 16,
     "metadata": {},
     "output_type": "execute_result"
    }
   ],
   "source": [
    "stu[1]"
   ]
  },
  {
   "cell_type": "code",
   "execution_count": 19,
   "metadata": {},
   "outputs": [
    {
     "name": "stdout",
     "output_type": "stream",
     "text": [
      "치킨이는 001번이고 닭장에 살고 있다\n"
     ]
    }
   ],
   "source": [
    "s='{}이는 {}번이고 {}에 살고 있다'\n",
    "f=s.format(stu[0],stu[1],stu[2])\n",
    "print(f)"
   ]
  },
  {
   "cell_type": "markdown",
   "metadata": {},
   "source": [
    "### 문제1. 다음과 같은 양식으로 입력받아 출력하기\n",
    "- 햄버거/2/4 입력하면\n",
    "- 햄버거 2개 값은 8달러입니다."
   ]
  },
  {
   "cell_type": "code",
   "execution_count": 27,
   "metadata": {},
   "outputs": [
    {
     "name": "stdout",
     "output_type": "stream",
     "text": [
      "햄버거 개 달러: 3 4\n"
     ]
    }
   ],
   "source": [
    "ha=input('햄버거 개 달러: ').split()"
   ]
  },
  {
   "cell_type": "code",
   "execution_count": 29,
   "metadata": {},
   "outputs": [
    {
     "name": "stdout",
     "output_type": "stream",
     "text": [
      "햄버거 3개의 값은 12입니다.\n"
     ]
    }
   ],
   "source": [
    "s='햄버거 {}개의 값은 {}입니다.'\n",
    "f=s.format(ha[0],int(ha[1])*int(ha[0]))\n",
    "print(f)"
   ]
  },
  {
   "cell_type": "code",
   "execution_count": 31,
   "metadata": {},
   "outputs": [
    {
     "name": "stdout",
     "output_type": "stream",
     "text": [
      "20 인천 0.540000\n"
     ]
    }
   ],
   "source": [
    "info='%d %s %f'\n",
    "pr=info%(20,'인천',0.54)\n",
    "print(pr)"
   ]
  },
  {
   "cell_type": "code",
   "execution_count": 34,
   "metadata": {},
   "outputs": [
    {
     "name": "stdout",
     "output_type": "stream",
     "text": [
      "2020년도 인천남고 0.54퍼센트\n"
     ]
    }
   ],
   "source": [
    "info='%d년도 %s남고 %.2f퍼센트'\n",
    "pr=info%(2020,'인천',0.54)\n",
    "print(pr)"
   ]
  },
  {
   "cell_type": "markdown",
   "metadata": {},
   "source": [
    "### 문제2. 햄버거 2개는 8달라이다.\n",
    "'햄버거'\n",
    "2\n",
    "2 * 4"
   ]
  },
  {
   "cell_type": "code",
   "execution_count": 35,
   "metadata": {},
   "outputs": [
    {
     "name": "stdout",
     "output_type": "stream",
     "text": [
      "햄버거 2개는 8달라이다\n"
     ]
    }
   ],
   "source": [
    "data='%s %d개는 %d달라이다'\n",
    "pr=data%('햄버거',2,2*4)\n",
    "print(pr)"
   ]
  },
  {
   "cell_type": "markdown",
   "metadata": {},
   "source": [
    "## List"
   ]
  },
  {
   "cell_type": "code",
   "execution_count": 36,
   "metadata": {},
   "outputs": [
    {
     "data": {
      "text/plain": [
       "[1, 2, 3, 4, 5]"
      ]
     },
     "execution_count": 36,
     "metadata": {},
     "output_type": "execute_result"
    }
   ],
   "source": [
    "arr=[1,2,3,4,5]\n",
    "arr"
   ]
  },
  {
   "cell_type": "code",
   "execution_count": 45,
   "metadata": {},
   "outputs": [
    {
     "data": {
      "text/plain": [
       "['성곤', '대건', '대범', '호정']"
      ]
     },
     "execution_count": 45,
     "metadata": {},
     "output_type": "execute_result"
    }
   ],
   "source": [
    "arr=['성곤','대건','대범','호정']\n",
    "arr"
   ]
  },
  {
   "cell_type": "code",
   "execution_count": 40,
   "metadata": {},
   "outputs": [
    {
     "data": {
      "text/plain": [
       "'성곤'"
      ]
     },
     "execution_count": 40,
     "metadata": {},
     "output_type": "execute_result"
    }
   ],
   "source": [
    "arr[0]"
   ]
  },
  {
   "cell_type": "code",
   "execution_count": 47,
   "metadata": {},
   "outputs": [
    {
     "data": {
      "text/plain": [
       "4"
      ]
     },
     "execution_count": 47,
     "metadata": {},
     "output_type": "execute_result"
    }
   ],
   "source": [
    "len(arr)"
   ]
  },
  {
   "cell_type": "code",
   "execution_count": 52,
   "metadata": {},
   "outputs": [
    {
     "name": "stdout",
     "output_type": "stream",
     "text": [
      "1\n",
      "2\n",
      "3\n",
      "4\n",
      "5\n"
     ]
    }
   ],
   "source": [
    "for i in range(1,6):\n",
    "    print(i)"
   ]
  },
  {
   "cell_type": "code",
   "execution_count": 53,
   "metadata": {},
   "outputs": [
    {
     "name": "stdout",
     "output_type": "stream",
     "text": [
      "5\n",
      "4\n",
      "3\n",
      "2\n",
      "1\n"
     ]
    }
   ],
   "source": [
    "for i in range(5,0,-1):\n",
    "    print(i)"
   ]
  },
  {
   "cell_type": "code",
   "execution_count": 54,
   "metadata": {},
   "outputs": [
    {
     "name": "stdout",
     "output_type": "stream",
     "text": [
      "성곤\n",
      "대건\n",
      "대범\n",
      "호정\n"
     ]
    }
   ],
   "source": [
    "for i in arr:\n",
    "    print(i)"
   ]
  },
  {
   "cell_type": "code",
   "execution_count": 58,
   "metadata": {},
   "outputs": [
    {
     "name": "stdout",
     "output_type": "stream",
     "text": [
      "성곤\n",
      "대건\n",
      "대범\n",
      "호정\n"
     ]
    }
   ],
   "source": [
    "for i in range(len(arr)):\n",
    "    print(arr[i])"
   ]
  },
  {
   "cell_type": "code",
   "execution_count": 64,
   "metadata": {},
   "outputs": [
    {
     "name": "stdout",
     "output_type": "stream",
     "text": [
      "1 번 성곤\n",
      "2 번 대건\n",
      "3 번 대범\n",
      "4 번 호정\n"
     ]
    }
   ],
   "source": [
    "for i,aa in enumerate(arr):\n",
    "    print(i+1,'번',aa)"
   ]
  },
  {
   "cell_type": "markdown",
   "metadata": {},
   "source": [
    "## 문제1. 30부터 50까지 출력하기"
   ]
  },
  {
   "cell_type": "code",
   "execution_count": 66,
   "metadata": {},
   "outputs": [
    {
     "name": "stdout",
     "output_type": "stream",
     "text": [
      "30\n",
      "31\n",
      "32\n",
      "33\n",
      "34\n",
      "35\n",
      "36\n",
      "37\n",
      "38\n",
      "39\n",
      "40\n",
      "41\n",
      "42\n",
      "43\n",
      "44\n",
      "45\n",
      "46\n",
      "47\n",
      "48\n",
      "49\n",
      "50\n"
     ]
    }
   ],
   "source": [
    "for i in range(30,51):\n",
    "    print(i)"
   ]
  },
  {
   "cell_type": "markdown",
   "metadata": {},
   "source": [
    "## 문제2. 30부터 50까지 홀수만 출력"
   ]
  },
  {
   "cell_type": "code",
   "execution_count": 68,
   "metadata": {},
   "outputs": [
    {
     "name": "stdout",
     "output_type": "stream",
     "text": [
      "31\n",
      "33\n",
      "35\n",
      "37\n",
      "39\n",
      "41\n",
      "43\n",
      "45\n",
      "47\n",
      "49\n"
     ]
    }
   ],
   "source": [
    "for i in range(30,51):\n",
    "    if i%2!=0:\n",
    "        print(i)"
   ]
  },
  {
   "cell_type": "markdown",
   "metadata": {},
   "source": [
    "## 문제3. 30부터 50까지중 홀수만 더해서 sum에 넣고 출력"
   ]
  },
  {
   "cell_type": "code",
   "execution_count": 72,
   "metadata": {},
   "outputs": [
    {
     "name": "stdout",
     "output_type": "stream",
     "text": [
      "31\n",
      "33\n",
      "35\n",
      "37\n",
      "39\n",
      "41\n",
      "43\n",
      "45\n",
      "47\n",
      "49\n",
      "400\n"
     ]
    }
   ],
   "source": [
    "sum=0\n",
    "for i in range(30,51):\n",
    "    if i%2!=0:\n",
    "        sum=sum+i\n",
    "        print(i)\n",
    "print(sum)"
   ]
  },
  {
   "cell_type": "markdown",
   "metadata": {},
   "source": [
    "## 문제4. 1부터 10까지중 \n",
    "- 짝수면 파이썬\n",
    "- 홀수이면 '야 너도 할수있어' 출력"
   ]
  },
  {
   "cell_type": "code",
   "execution_count": 76,
   "metadata": {},
   "outputs": [
    {
     "name": "stdout",
     "output_type": "stream",
     "text": [
      "야 너도 할수 있어\n",
      "파이썬\n",
      "야 너도 할수 있어\n",
      "파이썬\n",
      "야 너도 할수 있어\n",
      "파이썬\n",
      "야 너도 할수 있어\n",
      "파이썬\n",
      "야 너도 할수 있어\n",
      "파이썬\n"
     ]
    }
   ],
   "source": [
    "for i in range(1,11):\n",
    "    if i%2==0:\n",
    "        print('파이썬')\n",
    "    else:\n",
    "        print('야 너도 할수 있어')"
   ]
  }
 ],
 "metadata": {
  "kernelspec": {
   "display_name": "Python 3",
   "language": "python",
   "name": "python3"
  },
  "language_info": {
   "codemirror_mode": {
    "name": "ipython",
    "version": 3
   },
   "file_extension": ".py",
   "mimetype": "text/x-python",
   "name": "python",
   "nbconvert_exporter": "python",
   "pygments_lexer": "ipython3",
   "version": "3.7.4"
  }
 },
 "nbformat": 4,
 "nbformat_minor": 2
}
