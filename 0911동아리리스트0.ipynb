{
  "nbformat": 4,
  "nbformat_minor": 0,
  "metadata": {
    "colab": {
      "name": "0911동아리리스트0.ipynb",
      "provenance": [],
      "collapsed_sections": [],
      "include_colab_link": true
    },
    "kernelspec": {
      "name": "python3",
      "display_name": "Python 3"
    }
  },
  "cells": [
    {
      "cell_type": "markdown",
      "metadata": {
        "id": "view-in-github",
        "colab_type": "text"
      },
      "source": [
        "<a href=\"https://colab.research.google.com/github/hdb4427/Python_303/blob/master/0911%EB%8F%99%EC%95%84%EB%A6%AC%EB%A6%AC%EC%8A%A4%ED%8A%B80.ipynb\" target=\"_parent\"><img src=\"https://colab.research.google.com/assets/colab-badge.svg\" alt=\"Open In Colab\"/></a>"
      ]
    },
    {
      "cell_type": "code",
      "metadata": {
        "id": "KmDNXkmGZgN8",
        "colab_type": "code",
        "colab": {
          "base_uri": "https://localhost:8080/",
          "height": 197
        },
        "outputId": "4b3766ff-23c5-4b0c-a4f2-470db21d2b1d"
      },
      "source": [
        "for i in range(1,11):\n",
        "  if i % 2==0 :\n",
        "    print('파이썬')\n",
        "  else :\n",
        "    print('야~ 나도 파이썬 할 수 있어')"
      ],
      "execution_count": 1,
      "outputs": [
        {
          "output_type": "stream",
          "text": [
            "야~ 나도 파이썬 할 수 있어\n",
            "파이썬\n",
            "야~ 나도 파이썬 할 수 있어\n",
            "파이썬\n",
            "야~ 나도 파이썬 할 수 있어\n",
            "파이썬\n",
            "야~ 나도 파이썬 할 수 있어\n",
            "파이썬\n",
            "야~ 나도 파이썬 할 수 있어\n",
            "파이썬\n"
          ],
          "name": "stdout"
        }
      ]
    },
    {
      "cell_type": "code",
      "metadata": {
        "id": "A9t0eAKEZw04",
        "colab_type": "code",
        "colab": {
          "base_uri": "https://localhost:8080/",
          "height": 35
        },
        "outputId": "3f8a9ecc-5bec-4137-d5d7-5f4d681f47a4"
      },
      "source": [
        "juso = ' 광주광역시 중구 참외전로 6번지 3층 창의관'\n",
        "juso , type(juso), len(juso)"
      ],
      "execution_count": 2,
      "outputs": [
        {
          "output_type": "execute_result",
          "data": {
            "text/plain": [
              "(' 광주광역시 중구 참외전로 6번지 3층 창의관', str, 25)"
            ]
          },
          "metadata": {
            "tags": []
          },
          "execution_count": 2
        }
      ]
    },
    {
      "cell_type": "code",
      "metadata": {
        "id": "8OahWeOjZvaw",
        "colab_type": "code",
        "colab": {}
      },
      "source": [
        "juso=juso.strip()"
      ],
      "execution_count": 3,
      "outputs": []
    },
    {
      "cell_type": "code",
      "metadata": {
        "id": "9Nruw0hAZuGA",
        "colab_type": "code",
        "colab": {
          "base_uri": "https://localhost:8080/",
          "height": 35
        },
        "outputId": "94ba2df4-4865-4925-eabe-3ac888d67eee"
      },
      "source": [
        "juso, len(juso)"
      ],
      "execution_count": 4,
      "outputs": [
        {
          "output_type": "execute_result",
          "data": {
            "text/plain": [
              "('광주광역시 중구 참외전로 6번지 3층 창의관', 24)"
            ]
          },
          "metadata": {
            "tags": []
          },
          "execution_count": 4
        }
      ]
    },
    {
      "cell_type": "code",
      "metadata": {
        "id": "9pUSSPhHaNwi",
        "colab_type": "code",
        "colab": {}
      },
      "source": [
        "addr=juso.split()"
      ],
      "execution_count": 5,
      "outputs": []
    },
    {
      "cell_type": "code",
      "metadata": {
        "id": "IeeZWfAvaeBr",
        "colab_type": "code",
        "colab": {
          "base_uri": "https://localhost:8080/",
          "height": 35
        },
        "outputId": "41d10948-5c0c-4941-d5fe-02ae9e29b0d8"
      },
      "source": [
        "addr, len(addr), type(addr)"
      ],
      "execution_count": 6,
      "outputs": [
        {
          "output_type": "execute_result",
          "data": {
            "text/plain": [
              "(['광주광역시', '중구', '참외전로', '6번지', '3층', '창의관'], 6, list)"
            ]
          },
          "metadata": {
            "tags": []
          },
          "execution_count": 6
        }
      ]
    },
    {
      "cell_type": "code",
      "metadata": {
        "id": "hPH-stxTaoWC",
        "colab_type": "code",
        "colab": {
          "base_uri": "https://localhost:8080/",
          "height": 35
        },
        "outputId": "b5059f1a-5c9f-47fc-c70a-d7e6ae02b87f"
      },
      "source": [
        "addr[:2], addr[3:]"
      ],
      "execution_count": 7,
      "outputs": [
        {
          "output_type": "execute_result",
          "data": {
            "text/plain": [
              "(['광주광역시', '중구'], ['6번지', '3층', '창의관'])"
            ]
          },
          "metadata": {
            "tags": []
          },
          "execution_count": 7
        }
      ]
    },
    {
      "cell_type": "code",
      "metadata": {
        "id": "SqJZ43BCawDk",
        "colab_type": "code",
        "colab": {
          "base_uri": "https://localhost:8080/",
          "height": 35
        },
        "outputId": "26f6e2df-b0c8-4f02-a00d-9de6cf3f1e2d"
      },
      "source": [
        "juso.startswith('인천')"
      ],
      "execution_count": 8,
      "outputs": [
        {
          "output_type": "execute_result",
          "data": {
            "text/plain": [
              "False"
            ]
          },
          "metadata": {
            "tags": []
          },
          "execution_count": 8
        }
      ]
    },
    {
      "cell_type": "code",
      "metadata": {
        "id": "BSaIHHr3awJj",
        "colab_type": "code",
        "colab": {
          "base_uri": "https://localhost:8080/",
          "height": 35
        },
        "outputId": "987f1ee3-8502-476d-928a-3bade7969037"
      },
      "source": [
        "juso.endswith('동')"
      ],
      "execution_count": 9,
      "outputs": [
        {
          "output_type": "execute_result",
          "data": {
            "text/plain": [
              "False"
            ]
          },
          "metadata": {
            "tags": []
          },
          "execution_count": 9
        }
      ]
    },
    {
      "cell_type": "code",
      "metadata": {
        "id": "6zrJbzeaawRc",
        "colab_type": "code",
        "colab": {
          "base_uri": "https://localhost:8080/",
          "height": 35
        },
        "outputId": "f96d9b1e-5fa6-43ef-b322-7247b1285b34"
      },
      "source": [
        "'광주광역시' in addr"
      ],
      "execution_count": 10,
      "outputs": [
        {
          "output_type": "execute_result",
          "data": {
            "text/plain": [
              "True"
            ]
          },
          "metadata": {
            "tags": []
          },
          "execution_count": 10
        }
      ]
    },
    {
      "cell_type": "code",
      "metadata": {
        "id": "L2OvSlhgbcDb",
        "colab_type": "code",
        "colab": {
          "base_uri": "https://localhost:8080/",
          "height": 35
        },
        "outputId": "bdd22b6d-3213-4e2f-bb7e-d2e88e56356a"
      },
      "source": [
        "'인천' in juso"
      ],
      "execution_count": 12,
      "outputs": [
        {
          "output_type": "execute_result",
          "data": {
            "text/plain": [
              "False"
            ]
          },
          "metadata": {
            "tags": []
          },
          "execution_count": 12
        }
      ]
    },
    {
      "cell_type": "code",
      "metadata": {
        "id": "i9EkIgvCcxRc",
        "colab_type": "code",
        "colab": {}
      },
      "source": [
        ""
      ],
      "execution_count": null,
      "outputs": []
    },
    {
      "cell_type": "markdown",
      "metadata": {
        "id": "dY33hRsvaXUb",
        "colab_type": "text"
      },
      "source": [
        ""
      ]
    }
  ]
}