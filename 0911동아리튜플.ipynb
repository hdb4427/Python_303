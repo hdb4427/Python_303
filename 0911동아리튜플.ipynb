{
  "nbformat": 4,
  "nbformat_minor": 0,
  "metadata": {
    "colab": {
      "name": "0911동아리튜플.ipynb",
      "provenance": [],
      "collapsed_sections": [],
      "include_colab_link": true
    },
    "kernelspec": {
      "name": "python3",
      "display_name": "Python 3"
    }
  },
  "cells": [
    {
      "cell_type": "markdown",
      "metadata": {
        "id": "view-in-github",
        "colab_type": "text"
      },
      "source": [
        "<a href=\"https://colab.research.google.com/github/hdb4427/Python_303/blob/master/0911%EB%8F%99%EC%95%84%EB%A6%AC%ED%8A%9C%ED%94%8C.ipynb\" target=\"_parent\"><img src=\"https://colab.research.google.com/assets/colab-badge.svg\" alt=\"Open In Colab\"/></a>"
      ]
    },
    {
      "cell_type": "code",
      "metadata": {
        "id": "yfoCSEMltD5t",
        "colab_type": "code",
        "colab": {}
      },
      "source": [
        "a = [1,2,3,4,5] #list\n",
        "aa = ['이름','전화번호']\n",
        "\n",
        "b= (1,2,3,4,5) #tuple\n",
        "b= 1,2,3,4,5\n",
        "\n",
        "c= {1,2,3,4,5} #set\n",
        "\n",
        "d= {1:100, 2:200}#dict\n",
        "dd= {'학번':100,'이름':'정보'}#dict"
      ],
      "execution_count": 1,
      "outputs": []
    },
    {
      "cell_type": "code",
      "metadata": {
        "id": "xWfBd2jbtWju",
        "colab_type": "code",
        "colab": {}
      },
      "source": [
        "a = [1,2,3]\n",
        "b= (1,2,3)"
      ],
      "execution_count": 2,
      "outputs": []
    },
    {
      "cell_type": "code",
      "metadata": {
        "id": "V66udEN5tb5W",
        "colab_type": "code",
        "colab": {
          "base_uri": "https://localhost:8080/",
          "height": 35
        },
        "outputId": "bd703345-6ff5-47fb-d65a-3a53e0e5f965"
      },
      "source": [
        "a[0]=120\n",
        "a"
      ],
      "execution_count": 3,
      "outputs": [
        {
          "output_type": "execute_result",
          "data": {
            "text/plain": [
              "[120, 2, 3]"
            ]
          },
          "metadata": {
            "tags": []
          },
          "execution_count": 3
        }
      ]
    },
    {
      "cell_type": "code",
      "metadata": {
        "id": "ARL_6mLQQc3s",
        "colab_type": "code",
        "colab": {
          "base_uri": "https://localhost:8080/",
          "height": 35
        },
        "outputId": "4a05e075-848e-4a72-9062-a0a3a7b2ff3d"
      },
      "source": [
        "c=list(b)\n",
        "c[0]=120\n",
        "c"
      ],
      "execution_count": 4,
      "outputs": [
        {
          "output_type": "execute_result",
          "data": {
            "text/plain": [
              "[120, 2, 3]"
            ]
          },
          "metadata": {
            "tags": []
          },
          "execution_count": 4
        }
      ]
    },
    {
      "cell_type": "code",
      "metadata": {
        "id": "HEwlAqv3QvjB",
        "colab_type": "code",
        "colab": {
          "base_uri": "https://localhost:8080/",
          "height": 35
        },
        "outputId": "fdbc3855-64fc-48a3-f270-87df85c80f9b"
      },
      "source": [
        "a, b = 1,2\n",
        "print(a, b)"
      ],
      "execution_count": 5,
      "outputs": [
        {
          "output_type": "stream",
          "text": [
            "1 2\n"
          ],
          "name": "stdout"
        }
      ]
    },
    {
      "cell_type": "code",
      "metadata": {
        "id": "L9u5ejUQQhkp",
        "colab_type": "code",
        "colab": {
          "base_uri": "https://localhost:8080/",
          "height": 35
        },
        "outputId": "816351af-5535-4918-e8b7-8e2bc4ba10c8"
      },
      "source": [
        "a, b, c, d = 100, 200,300,400\n",
        "print(a, b, c, d)"
      ],
      "execution_count": 6,
      "outputs": [
        {
          "output_type": "stream",
          "text": [
            "100 200 300 400\n"
          ],
          "name": "stdout"
        }
      ]
    },
    {
      "cell_type": "code",
      "metadata": {
        "id": "NvlYGgOARGyH",
        "colab_type": "code",
        "colab": {
          "base_uri": "https://localhost:8080/",
          "height": 53
        },
        "outputId": "1ccd9bff-ad84-4056-d09e-b82cdf663015"
      },
      "source": [
        "a = [12,3,4,45,56,100,200]\n",
        "print(a[0])\n",
        "print(a[-1])"
      ],
      "execution_count": 7,
      "outputs": [
        {
          "output_type": "stream",
          "text": [
            "12\n",
            "200\n"
          ],
          "name": "stdout"
        }
      ]
    },
    {
      "cell_type": "code",
      "metadata": {
        "id": "sUuKVlOtRwF4",
        "colab_type": "code",
        "colab": {}
      },
      "source": [
        "a= {'Korea':'Seoul',\n",
        "    'Canada':'Ottawa',\n",
        "    'China':'Beijing'}"
      ],
      "execution_count": 8,
      "outputs": []
    },
    {
      "cell_type": "code",
      "metadata": {
        "id": "dtB9OC6kSM8R",
        "colab_type": "code",
        "colab": {
          "base_uri": "https://localhost:8080/",
          "height": 35
        },
        "outputId": "95073f68-e3ef-40a5-fb0a-bd9c2b2bd4d2"
      },
      "source": [
        "a['Korea']"
      ],
      "execution_count": 9,
      "outputs": [
        {
          "output_type": "execute_result",
          "data": {
            "application/vnd.google.colaboratory.intrinsic+json": {
              "type": "string"
            },
            "text/plain": [
              "'Seoul'"
            ]
          },
          "metadata": {
            "tags": []
          },
          "execution_count": 9
        }
      ]
    },
    {
      "cell_type": "code",
      "metadata": {
        "id": "pYzt9clLST6x",
        "colab_type": "code",
        "colab": {
          "base_uri": "https://localhost:8080/",
          "height": 35
        },
        "outputId": "70c4dc70-c80b-4f3a-a768-14588fd4e1f9"
      },
      "source": [
        "a['Canada']"
      ],
      "execution_count": 10,
      "outputs": [
        {
          "output_type": "execute_result",
          "data": {
            "application/vnd.google.colaboratory.intrinsic+json": {
              "type": "string"
            },
            "text/plain": [
              "'Ottawa'"
            ]
          },
          "metadata": {
            "tags": []
          },
          "execution_count": 10
        }
      ]
    },
    {
      "cell_type": "code",
      "metadata": {
        "id": "FCOD41gRSr2Y",
        "colab_type": "code",
        "colab": {
          "base_uri": "https://localhost:8080/",
          "height": 35
        },
        "outputId": "0bba6a60-86b3-4dd4-a9f4-0982c9583dd5"
      },
      "source": [
        "a['Canada'] = 'Busan'\n",
        "a"
      ],
      "execution_count": 11,
      "outputs": [
        {
          "output_type": "execute_result",
          "data": {
            "text/plain": [
              "{'Canada': 'Busan', 'China': 'Beijing', 'Korea': 'Seoul'}"
            ]
          },
          "metadata": {
            "tags": []
          },
          "execution_count": 11
        }
      ]
    },
    {
      "cell_type": "code",
      "metadata": {
        "id": "wri7za8tUt_R",
        "colab_type": "code",
        "colab": {
          "base_uri": "https://localhost:8080/",
          "height": 35
        },
        "outputId": "2b6c3c82-3ffa-4e29-dd17-9a5519327276"
      },
      "source": [
        "c= {1,2,3,4,5}\n",
        "cc = {8, 2,5}\n",
        "print(c-cc)"
      ],
      "execution_count": 12,
      "outputs": [
        {
          "output_type": "stream",
          "text": [
            "{1, 3, 4}\n"
          ],
          "name": "stdout"
        }
      ]
    },
    {
      "cell_type": "code",
      "metadata": {
        "id": "lwQo8Qd2VB_i",
        "colab_type": "code",
        "colab": {
          "base_uri": "https://localhost:8080/",
          "height": 35
        },
        "outputId": "45d4170e-06b4-4b22-fc83-73f44df522ee"
      },
      "source": [
        "b= {1:100, 100:1000}\n",
        "b[1]"
      ],
      "execution_count": 13,
      "outputs": [
        {
          "output_type": "execute_result",
          "data": {
            "text/plain": [
              "100"
            ]
          },
          "metadata": {
            "tags": []
          },
          "execution_count": 13
        }
      ]
    },
    {
      "cell_type": "code",
      "metadata": {
        "id": "b8aZgxg5Vv1R",
        "colab_type": "code",
        "colab": {}
      },
      "source": [
        "a= {1,2,3,4,3,3}"
      ],
      "execution_count": 14,
      "outputs": []
    },
    {
      "cell_type": "code",
      "metadata": {
        "id": "15uMZXpIVuAh",
        "colab_type": "code",
        "colab": {}
      },
      "source": [
        "a= {1,2,3,4,5}\n",
        "b= {3,4,5,6,7}"
      ],
      "execution_count": 15,
      "outputs": []
    },
    {
      "cell_type": "code",
      "metadata": {
        "id": "7yMJb2OtV2ro",
        "colab_type": "code",
        "colab": {
          "base_uri": "https://localhost:8080/",
          "height": 35
        },
        "outputId": "1c440a59-8bdc-448e-ca98-6e18770f6166"
      },
      "source": [
        "a=[1,2,3,4,5,5,5,6,7,8,8,9]\n",
        "print(a)\n"
      ],
      "execution_count": 16,
      "outputs": [
        {
          "output_type": "stream",
          "text": [
            "[1, 2, 3, 4, 5, 5, 5, 6, 7, 8, 8, 9]\n"
          ],
          "name": "stdout"
        }
      ]
    },
    {
      "cell_type": "markdown",
      "metadata": {
        "id": "mEHYbqzwV9eh",
        "colab_type": "text"
      },
      "source": [
        "##[연습문제1]A와 B의 값을 교환하시오\n",
        "1. a = 4,5\n",
        "2. b = 6, 7"
      ]
    },
    {
      "cell_type": "code",
      "metadata": {
        "id": "aScJAKy-WL1O",
        "colab_type": "code",
        "colab": {
          "base_uri": "https://localhost:8080/",
          "height": 53
        },
        "outputId": "8be9b249-caf6-4b2c-bceb-aad86de4917f"
      },
      "source": [
        "a = 11, 5\n",
        "b= 6, 7\n",
        "\n",
        "a, b = b, a\n",
        "\n",
        "temp = a\n",
        "a = b\n",
        "b = temp\n",
        "\n",
        "print(a)\n",
        "print(b)\n"
      ],
      "execution_count": 17,
      "outputs": [
        {
          "output_type": "stream",
          "text": [
            "(11, 5)\n",
            "(6, 7)\n"
          ],
          "name": "stdout"
        }
      ]
    },
    {
      "cell_type": "markdown",
      "metadata": {
        "id": "G7n53-LrXDQK",
        "colab_type": "text"
      },
      "source": [
        "[연습문제2]긍정을 의미하는 5개의 단어로 리스트 만들기"
      ]
    },
    {
      "cell_type": "code",
      "metadata": {
        "id": "QBqoYdOSXEK8",
        "colab_type": "code",
        "colab": {
          "base_uri": "https://localhost:8080/",
          "height": 35
        },
        "outputId": "9d8c618b-0615-41d3-eeb6-6a736e51742b"
      },
      "source": [
        "happy = ['food', '칭찬','미소','행복','방학']\n",
        "happy"
      ],
      "execution_count": 18,
      "outputs": [
        {
          "output_type": "execute_result",
          "data": {
            "text/plain": [
              "['food', '칭찬', '미소', '행복', '방학']"
            ]
          },
          "metadata": {
            "tags": []
          },
          "execution_count": 18
        }
      ]
    },
    {
      "cell_type": "markdown",
      "metadata": {
        "id": "bGYgL67UXfvx",
        "colab_type": "text"
      },
      "source": [
        "[연습문제3] dict을 이용하여 5개의 아이템 만들기"
      ]
    },
    {
      "cell_type": "code",
      "metadata": {
        "id": "LjvaHOvNXgMI",
        "colab_type": "code",
        "colab": {}
      },
      "source": [
        "a= {'Mon':8,\n",
        "    'Ths':5,\n",
        "    'Wen':3,\n",
        "    'Thus':6,\n",
        "    'Fri':2}"
      ],
      "execution_count": 19,
      "outputs": []
    },
    {
      "cell_type": "code",
      "metadata": {
        "id": "4dBXcU8TYaty",
        "colab_type": "code",
        "colab": {
          "base_uri": "https://localhost:8080/",
          "height": 35
        },
        "outputId": "6103aa9c-aecc-43ac-aa8f-bfa7c6213e71"
      },
      "source": [
        "a"
      ],
      "execution_count": 20,
      "outputs": [
        {
          "output_type": "execute_result",
          "data": {
            "text/plain": [
              "{'Fri': 2, 'Mon': 8, 'Ths': 5, 'Thus': 6, 'Wen': 3}"
            ]
          },
          "metadata": {
            "tags": []
          },
          "execution_count": 20
        }
      ]
    },
    {
      "cell_type": "code",
      "metadata": {
        "id": "KMq58tWBYhW8",
        "colab_type": "code",
        "colab": {
          "base_uri": "https://localhost:8080/",
          "height": 35
        },
        "outputId": "3b4d1f10-9576-46e6-8763-3825427b06c3"
      },
      "source": [
        "a.items()"
      ],
      "execution_count": 21,
      "outputs": [
        {
          "output_type": "execute_result",
          "data": {
            "text/plain": [
              "dict_items([('Mon', 8), ('Ths', 5), ('Wen', 3), ('Thus', 6), ('Fri', 2)])"
            ]
          },
          "metadata": {
            "tags": []
          },
          "execution_count": 21
        }
      ]
    },
    {
      "cell_type": "code",
      "metadata": {
        "id": "OhQTxfK1YiOK",
        "colab_type": "code",
        "colab": {
          "base_uri": "https://localhost:8080/",
          "height": 35
        },
        "outputId": "56e0553a-bf1c-4871-c299-3b7aabba14a3"
      },
      "source": [
        "a.values()"
      ],
      "execution_count": 22,
      "outputs": [
        {
          "output_type": "execute_result",
          "data": {
            "text/plain": [
              "dict_values([8, 5, 3, 6, 2])"
            ]
          },
          "metadata": {
            "tags": []
          },
          "execution_count": 22
        }
      ]
    },
    {
      "cell_type": "code",
      "metadata": {
        "id": "-zJTj58cYxO5",
        "colab_type": "code",
        "colab": {
          "base_uri": "https://localhost:8080/",
          "height": 35
        },
        "outputId": "235d4777-2062-48d5-d708-8822ff071bf9"
      },
      "source": [
        "a.keys()"
      ],
      "execution_count": 23,
      "outputs": [
        {
          "output_type": "execute_result",
          "data": {
            "text/plain": [
              "dict_keys(['Mon', 'Ths', 'Wen', 'Thus', 'Fri'])"
            ]
          },
          "metadata": {
            "tags": []
          },
          "execution_count": 23
        }
      ]
    },
    {
      "cell_type": "code",
      "metadata": {
        "id": "hVe8h4PCYwYK",
        "colab_type": "code",
        "colab": {
          "base_uri": "https://localhost:8080/",
          "height": 35
        },
        "outputId": "796a11d4-5e5d-408d-f5c0-ec41afde3634"
      },
      "source": [
        "a['Mon'] = 10\n",
        "a"
      ],
      "execution_count": 24,
      "outputs": [
        {
          "output_type": "execute_result",
          "data": {
            "text/plain": [
              "{'Fri': 2, 'Mon': 10, 'Ths': 5, 'Thus': 6, 'Wen': 3}"
            ]
          },
          "metadata": {
            "tags": []
          },
          "execution_count": 24
        }
      ]
    },
    {
      "cell_type": "code",
      "metadata": {
        "id": "GHrFtjdjY3z6",
        "colab_type": "code",
        "colab": {}
      },
      "source": [
        ""
      ],
      "execution_count": 24,
      "outputs": []
    }
  ]
}